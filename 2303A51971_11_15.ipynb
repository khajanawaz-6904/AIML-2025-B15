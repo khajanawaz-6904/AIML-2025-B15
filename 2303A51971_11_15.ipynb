{
  "nbformat": 4,
  "nbformat_minor": 0,
  "metadata": {
    "colab": {
      "provenance": [],
      "authorship_tag": "ABX9TyNb/x4JQYGGS34k5vUfPRp9",
      "include_colab_link": true
    },
    "kernelspec": {
      "name": "python3",
      "display_name": "Python 3"
    },
    "language_info": {
      "name": "python"
    }
  },
  "cells": [
    {
      "cell_type": "markdown",
      "metadata": {
        "id": "view-in-github",
        "colab_type": "text"
      },
      "source": [
        "<a href=\"https://colab.research.google.com/github/khajanawaz-6904/AIML-2025-B15/blob/main/2303A51971_11_15.ipynb\" target=\"_parent\"><img src=\"https://colab.research.google.com/assets/colab-badge.svg\" alt=\"Open In Colab\"/></a>"
      ]
    },
    {
      "cell_type": "code",
      "execution_count": 8,
      "metadata": {
        "colab": {
          "base_uri": "https://localhost:8080/",
          "height": 1000
        },
        "id": "5chbB9WqApuq",
        "outputId": "9da5f771-cf9c-4dae-dea9-30af2992f73a"
      },
      "outputs": [
        {
          "output_type": "stream",
          "name": "stdout",
          "text": [
            "File not found. Generating sample dataset for demonstration.\n",
            "<class 'pandas.core.frame.DataFrame'>\n",
            "RangeIndex: 5 entries, 0 to 4\n",
            "Data columns (total 9 columns):\n",
            " #   Column                 Non-Null Count  Dtype\n",
            "---  ------                 --------------  -----\n",
            " 0   Age                    5 non-null      int64\n",
            " 1   Weight                 5 non-null      int64\n",
            " 2   Obesity_Level          5 non-null      int64\n",
            " 3   Fast_Food_Consumption  5 non-null      int64\n",
            " 4   Sugary_Drinks          5 non-null      int64\n",
            " 5   Portion_Size           5 non-null      int64\n",
            " 6   Snacking_Frequency     5 non-null      int64\n",
            " 7   Skipping_Meals         5 non-null      int64\n",
            " 8   Screen_Time            5 non-null      int64\n",
            "dtypes: int64(9)\n",
            "memory usage: 488.0 bytes\n",
            "None\n",
            "   Age  Weight  Obesity_Level  Fast_Food_Consumption  Sugary_Drinks  \\\n",
            "0   25      70              0                      1              1   \n",
            "1   30      85              1                      2              2   \n",
            "2   35      95              1                      3              1   \n",
            "3   40     100              2                      4              3   \n",
            "4   45     110              2                      5              4   \n",
            "\n",
            "   Portion_Size  Snacking_Frequency  Skipping_Meals  Screen_Time  \n",
            "0             2                   1               0            2  \n",
            "1             3                   2               1            4  \n",
            "2             4                   3               0            6  \n",
            "3             5                   2               1            8  \n",
            "4             4                   1               0           10  \n",
            "\n",
            "Missing Values:\n",
            " Age                      0\n",
            "Weight                   0\n",
            "Obesity_Level            0\n",
            "Fast_Food_Consumption    0\n",
            "Sugary_Drinks            0\n",
            "Portion_Size             0\n",
            "Snacking_Frequency       0\n",
            "Skipping_Meals           0\n",
            "Screen_Time              0\n",
            "dtype: int64\n",
            "\n",
            "Top 5 reasons for obesity:\n",
            "Obesity_Level            1.000000\n",
            "Age                      0.944911\n",
            "Fast_Food_Consumption    0.944911\n",
            "Screen_Time              0.944911\n",
            "Weight                   0.940634\n",
            "Portion_Size             0.891042\n",
            "Name: Obesity_Level, dtype: float64\n",
            "\n",
            "Obesity levels by age group:\n",
            "Age_Group\n",
            "0-18          NaN\n",
            "19-35    0.666667\n",
            "36-50    2.000000\n",
            "51+           NaN\n",
            "Name: Obesity_Level, dtype: float64\n"
          ]
        },
        {
          "output_type": "stream",
          "name": "stderr",
          "text": [
            "<ipython-input-8-6a3984fb6efb>:42: FutureWarning: DataFrame.fillna with 'method' is deprecated and will raise in a future version. Use obj.ffill() or obj.bfill() instead.\n",
            "  data.fillna(method='ffill', inplace=True)\n",
            "<ipython-input-8-6a3984fb6efb>:60: FutureWarning: The default of observed=False is deprecated and will be changed to True in a future version of pandas. Pass observed=False to retain current behavior or observed=True to adopt the future default and silence this warning.\n",
            "  age_obesity = data.groupby('Age_Group')['Obesity_Level'].mean()\n"
          ]
        },
        {
          "output_type": "display_data",
          "data": {
            "text/plain": [
              "<Figure size 640x480 with 1 Axes>"
            ],
            "image/png": "[encoded data removed]"
          },
          "metadata": {}
        },
        {
          "output_type": "stream",
          "name": "stdout",
          "text": [
            "\n",
            "Max weight: 110\n",
            "Min weight: 85\n",
            "\n",
            "Top eating habits contributing to obesity:\n",
            "                 Feature  Importance\n",
            "0  Fast_Food_Consumption    0.319164\n",
            "1          Sugary_Drinks    0.228686\n",
            "2           Portion_Size    0.219958\n",
            "3     Snacking_Frequency    0.196088\n",
            "4         Skipping_Meals    0.036105\n",
            "\n",
            "Average tech usage among obese patients:\n",
            "               Screen_Time\n",
            "Obesity_Level             \n",
            "1                      5.0\n",
            "2                      9.0\n"
          ]
        },
        {
          "output_type": "display_data",
          "data": {
            "text/plain": [
              "<Figure size 640x480 with 1 Axes>"
            ],
            "image/png": "[encoded data removed]"
          },
          "metadata": {}
        },
        {
          "output_type": "stream",
          "name": "stdout",
          "text": [
            "\n",
            "Classification Report:\n",
            "              precision    recall  f1-score   support\n",
            "\n",
            "           0       0.00      0.00      0.00         0\n",
            "           1       0.00      0.00      0.00         1\n",
            "           2       1.00      1.00      1.00         1\n",
            "\n",
            "    accuracy                           0.50         2\n",
            "   macro avg       0.33      0.33      0.33         2\n",
            "weighted avg       0.50      0.50      0.50         2\n",
            "\n"
          ]
        },
        {
          "output_type": "stream",
          "name": "stderr",
          "text": [
            "/usr/local/lib/python3.10/dist-packages/sklearn/metrics/_classification.py:1531: UndefinedMetricWarning: Precision is ill-defined and being set to 0.0 in labels with no predicted samples. Use `zero_division` parameter to control this behavior.\n",
            "  _warn_prf(average, modifier, f\"{metric.capitalize()} is\", len(result))\n",
            "/usr/local/lib/python3.10/dist-packages/sklearn/metrics/_classification.py:1531: UndefinedMetricWarning: Recall is ill-defined and being set to 0.0 in labels with no true samples. Use `zero_division` parameter to control this behavior.\n",
            "  _warn_prf(average, modifier, f\"{metric.capitalize()} is\", len(result))\n",
            "/usr/local/lib/python3.10/dist-packages/sklearn/metrics/_classification.py:1531: UndefinedMetricWarning: Precision is ill-defined and being set to 0.0 in labels with no predicted samples. Use `zero_division` parameter to control this behavior.\n",
            "  _warn_prf(average, modifier, f\"{metric.capitalize()} is\", len(result))\n",
            "/usr/local/lib/python3.10/dist-packages/sklearn/metrics/_classification.py:1531: UndefinedMetricWarning: Recall is ill-defined and being set to 0.0 in labels with no true samples. Use `zero_division` parameter to control this behavior.\n",
            "  _warn_prf(average, modifier, f\"{metric.capitalize()} is\", len(result))\n",
            "/usr/local/lib/python3.10/dist-packages/sklearn/metrics/_classification.py:1531: UndefinedMetricWarning: Precision is ill-defined and being set to 0.0 in labels with no predicted samples. Use `zero_division` parameter to control this behavior.\n",
            "  _warn_prf(average, modifier, f\"{metric.capitalize()} is\", len(result))\n",
            "/usr/local/lib/python3.10/dist-packages/sklearn/metrics/_classification.py:1531: UndefinedMetricWarning: Recall is ill-defined and being set to 0.0 in labels with no true samples. Use `zero_division` parameter to control this behavior.\n",
            "  _warn_prf(average, modifier, f\"{metric.capitalize()} is\", len(result))\n"
          ]
        }
      ],
      "source": [
        "# Import necessary libraries\n",
        "import pandas as pd\n",
        "import numpy as np\n",
        "import seaborn as sns\n",
        "import matplotlib.pyplot as plt\n",
        "from sklearn.model_selection import train_test_split\n",
        "from sklearn.ensemble import RandomForestClassifier\n",
        "from sklearn.cluster import KMeans\n",
        "from sklearn.metrics import classification_report, silhouette_score\n",
        "import os\n",
        "\n",
        "# --- Load Dataset ---\n",
        "try:\n",
        "    # Update the file path to your dataset location\n",
        "    file_path = \"obesity_data.csv\"  # Replace with the actual file path\n",
        "    data = pd.read_csv(file_path)\n",
        "    print(\"Dataset loaded successfully!\")\n",
        "except FileNotFoundError:\n",
        "    print(\"File not found. Generating sample dataset for demonstration.\")\n",
        "    # Generating a sample dataset\n",
        "    data = pd.DataFrame({\n",
        "        'Age': [25, 30, 35, 40, 45],\n",
        "        'Weight': [70, 85, 95, 100, 110],\n",
        "        'Obesity_Level': [0, 1, 1, 2, 2],\n",
        "        'Fast_Food_Consumption': [1, 2, 3, 4, 5],\n",
        "        'Sugary_Drinks': [1, 2, 1, 3, 4],\n",
        "        'Portion_Size': [2, 3, 4, 5, 4],\n",
        "        'Snacking_Frequency': [1, 2, 3, 2, 1],\n",
        "        'Skipping_Meals': [0, 1, 0, 1, 0],\n",
        "        'Screen_Time': [2, 4, 6, 8, 10],\n",
        "    })\n",
        "\n",
        "# Display dataset info\n",
        "print(data.info())\n",
        "print(data.head())\n",
        "\n",
        "# --- Preprocessing ---\n",
        "# Check for missing values\n",
        "print(\"\\nMissing Values:\\n\", data.isnull().sum())\n",
        "\n",
        "# If there are missing values, fill or drop them\n",
        "data.fillna(method='ffill', inplace=True)\n",
        "\n",
        "# Encode categorical variables if present\n",
        "# Uncomment the line below if there are categorical columns to encode\n",
        "# data = pd.get_dummies(data, drop_first=True)\n",
        "\n",
        "# --- Exploratory Data Analysis ---\n",
        "\n",
        "# 1. Top 5 reasons for obesity levels\n",
        "correlation_matrix = data.corr()\n",
        "obesity_correlation = correlation_matrix['Obesity_Level'].sort_values(ascending=False)\n",
        "print(\"\\nTop 5 reasons for obesity:\")\n",
        "print(obesity_correlation.head(6))  # Assuming 'Obesity_Level' is the target variable\n",
        "\n",
        "# 2. Age group with the most obesity\n",
        "bins = [0, 18, 35, 50, 100]\n",
        "labels = ['0-18', '19-35', '36-50', '51+']\n",
        "data['Age_Group'] = pd.cut(data['Age'], bins=bins, labels=labels)\n",
        "age_obesity = data.groupby('Age_Group')['Obesity_Level'].mean()\n",
        "print(\"\\nObesity levels by age group:\")\n",
        "print(age_obesity)\n",
        "age_obesity.plot(kind='bar')\n",
        "plt.title(\"Obesity Levels by Age Group\")\n",
        "plt.show()\n",
        "\n",
        "# 3. Max and min weight of patients with obesity\n",
        "obese_patients = data[data['Obesity_Level'] >= 1]  # Assuming obesity levels start at 1\n",
        "print(\"\\nMax weight:\", obese_patients['Weight'].max())\n",
        "print(\"Min weight:\", obese_patients['Weight'].min())\n",
        "\n",
        "# 4. Top 5 eating habits contributing to obesity\n",
        "eating_habits = ['Fast_Food_Consumption', 'Sugary_Drinks', 'Portion_Size',\n",
        "                 'Snacking_Frequency', 'Skipping_Meals']  # Replace with actual column names\n",
        "clf = RandomForestClassifier(random_state=42)\n",
        "clf.fit(data[eating_habits], data['Obesity_Level'])\n",
        "feature_importance = clf.feature_importances_\n",
        "importance_df = pd.DataFrame({'Feature': eating_habits, 'Importance': feature_importance})\n",
        "print(\"\\nTop eating habits contributing to obesity:\")\n",
        "print(importance_df.sort_values(by='Importance', ascending=False))\n",
        "\n",
        "# 5. Highest tech gadget usage\n",
        "tech_features = ['Screen_Time']  # Replace with actual column names related to tech usage\n",
        "tech_usage = data.groupby('Obesity_Level')[tech_features].mean()\n",
        "print(\"\\nAverage tech usage among obese patients:\")\n",
        "print(tech_usage.loc[1:])  # Assuming 1+ represents obese patients\n",
        "tech_usage.loc[1:].plot(kind='bar')\n",
        "plt.title(\"Tech Gadget Usage among Obese Patients\")\n",
        "plt.show()\n",
        "\n",
        "# --- Model Implementation ---\n",
        "\n",
        "# 6. Classification Model\n",
        "X = data.drop(columns=['Obesity_Level', 'Age_Group'], errors='ignore')  # Features\n",
        "y = data['Obesity_Level']  # Target\n",
        "X_train, X_test, y_train, y_test = train_test_split(X, y, test_size=0.3, random_state=42)\n",
        "\n",
        "classifier = RandomForestClassifier(random_state=42)\n",
        "classifier.fit(X_train, y_train)\n",
        "y_pred = classifier.predict(X_test)\n",
        "print(\"\\nClassification Report:\")\n",
        "print(classification_report(y_test, y_pred))"
      ]
    }
  ]
}